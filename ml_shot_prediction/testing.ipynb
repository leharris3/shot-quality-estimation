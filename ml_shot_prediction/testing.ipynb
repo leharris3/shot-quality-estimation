{
 "cells": [
  {
   "cell_type": "code",
   "execution_count": 39,
   "metadata": {},
   "outputs": [
    {
     "data": {
      "text/plain": [
       "id                                          76320111\n",
       "action_id                                     800302\n",
       "action_name                                       3-\n",
       "player_id                                     1111.0\n",
       "player_name                             Trevor Ariza\n",
       "team_id                                         80.0\n",
       "team_name                            Houston Rockets\n",
       "opponent_id                                      NaN\n",
       "opponent_name                                    NaN\n",
       "opponent_team_id                                 NaN\n",
       "opponent_team_name                               NaN\n",
       "teammate_id                                      NaN\n",
       "teammate_name                                    NaN\n",
       "half                                               1\n",
       "second                                        39.438\n",
       "pos_x                                          26.36\n",
       "pos_y                                           0.66\n",
       "possession_id                                    NaN\n",
       "possession_name                                  NaN\n",
       "possession_team_id                               NaN\n",
       "possession_team_name                             NaN\n",
       "possession_number                                NaN\n",
       "possession_start_clear                           NaN\n",
       "possession_end_clear                             NaN\n",
       "playtype                             Catch and shoot\n",
       "hand                                             NaN\n",
       "shot_type                                     Jumper\n",
       "drive                                            NaN\n",
       "dribble_move                                     NaN\n",
       "contesting                                       NaN\n",
       "ts                        2017-12-07 02:46:01.184749\n",
       "Name: 89, dtype: object"
      ]
     },
     "execution_count": 39,
     "metadata": {},
     "output_type": "execute_result"
    }
   ],
   "source": [
    "import os\n",
    "import pandas as pd\n",
    "\n",
    "hudl_logs_dir = \"/playpen-storage/levlevi/contextualized-shot-quality-analysis/data/nba/result-hidden-split/hudl-game-logs\"\n",
    "hudl_logs_fps = [os.path.join(hudl_logs_dir, f) for f in os.listdir(hudl_logs_dir)]\n",
    "ex = hudl_logs_fps[0]\n",
    "\n",
    "df = pd.read_csv(ex, delimiter=';')\n",
    "shots_mask = df[\"action_name\"].str.contains('\\+|\\-', regex=True)\n",
    "shot_attempts_df = df.loc[shots_mask].copy()\n",
    "shot_attempts_df.iloc[0]"
   ]
  },
  {
   "cell_type": "code",
   "execution_count": 66,
   "metadata": {},
   "outputs": [],
   "source": [
    "from tqdm import tqdm\n",
    "\n",
    "def generate_features(game_logs_dir: str):\n",
    "    \n",
    "    features = pd.DataFrame(columns=[\n",
    "        \"attempt_type\", \n",
    "        \"player_id\", \n",
    "        \"team_id\", \n",
    "        \"period\",\n",
    "        \"pos_x\",\n",
    "        \"pos_y\",\n",
    "        \"shot_made\", \n",
    "        ])\n",
    "    \n",
    "    hudl_logs_fps = [os.path.join(game_logs_dir, f) for f in os.listdir(game_logs_dir)]\n",
    "    for fp in tqdm(hudl_logs_fps):\n",
    "\n",
    "        df = pd.read_csv(fp, delimiter=';')\n",
    "        shots_mask = df[\"action_name\"].str.contains('\\+|\\-', regex=True)\n",
    "        \n",
    "        shot_attempts_df = df.loc[shots_mask, [\n",
    "            'action_name', \n",
    "            'player_id', \n",
    "            'team_id', \n",
    "            'half',\n",
    "            \"pos_x\",\n",
    "            \"pos_y\",\n",
    "            ]].copy()\n",
    "        \n",
    "        shot_attempts_df['shot_made'] = df.loc[shots_mask, \"action_name\"].str.contains(\"\\+\", regex=True)\n",
    "        shots_attempts_features_df = shot_attempts_df.rename(\n",
    "            columns={\"half\": \"period\", \"action_name\": \"attempt_type\"}\n",
    "        )\n",
    "\n",
    "        # MARK: what are some features everyone has access to?\n",
    "        # attempt type: 2/3\n",
    "        # period (half)\n",
    "        # player_id\n",
    "        # team_id\n",
    "        # opponent_id\n",
    "\n",
    "        attempts_results_stripped = []\n",
    "        for at in shots_attempts_features_df['attempt_type']:\n",
    "            attempts_results_stripped.append(at[0])\n",
    "\n",
    "        shots_attempts_features_df['attempt_type'] = attempts_results_stripped\n",
    "\n",
    "        # remove free throws\n",
    "        free_throws_mask = shots_attempts_features_df['attempt_type'] == '1'\n",
    "        shots_attempts_features_df = shots_attempts_features_df[~free_throws_mask]\n",
    "        \n",
    "        features = pd.concat([features, shots_attempts_features_df])\n",
    "\n",
    "    return features"
   ]
  },
  {
   "cell_type": "code",
   "execution_count": 67,
   "metadata": {},
   "outputs": [
    {
     "name": "stderr",
     "output_type": "stream",
     "text": [
      "  0%|          | 0/634 [00:00<?, ?it/s]/tmp/ipykernel_3315821/2656580090.py:52: FutureWarning: The behavior of DataFrame concatenation with empty or all-NA entries is deprecated. In a future version, this will no longer exclude empty or all-NA columns when determining the result dtypes. To retain the old behavior, exclude the relevant entries before the concat operation.\n",
      "  features = pd.concat([features, shots_attempts_features_df])\n",
      "100%|██████████| 634/634 [00:10<00:00, 60.84it/s]\n"
     ]
    }
   ],
   "source": [
    "df = generate_features(hudl_logs_dir)"
   ]
  },
  {
   "cell_type": "code",
   "execution_count": 117,
   "metadata": {},
   "outputs": [
    {
     "data": {
      "text/plain": [
       "0.5534787319233124"
      ]
     },
     "execution_count": 117,
     "metadata": {},
     "output_type": "execute_result"
    }
   ],
   "source": [
    "df_rand = df.dropna(axis=0).iloc[0:10000]\n",
    "df_sorted = df.dropna(axis=0).sort_values(\"shot_made\")\n",
    "1- sum(df_sorted[\"shot_made\"]) / len(df[\"shot_made\"])"
   ]
  },
  {
   "cell_type": "code",
   "execution_count": 128,
   "metadata": {},
   "outputs": [],
   "source": [
    "from sklearn.linear_model import LogisticRegression\n",
    "from sklearn.tree import DecisionTreeClassifier\n",
    "from sklearn.svm import SVC\n",
    "from sklearn.ensemble import RandomForestClassifier\n",
    "from sklearn.model_selection import train_test_split\n",
    "from sklearn.metrics import accuracy_score\n",
    "from sklearn.preprocessing import StandardScaler\n",
    "import pandas as pd\n",
    "\n",
    "_df_balanced =  pd.concat([df_sorted[0:5000], df_sorted[-5000: ]])\n",
    "_df_imbalanced = pd.concat([df_sorted[5000: int((10000 * .5535)) + 5000], df_sorted[-int((10000 * .4465)) - 5000: -5000]])"
   ]
  },
  {
   "cell_type": "code",
   "execution_count": 134,
   "metadata": {},
   "outputs": [
    {
     "name": "stdout",
     "output_type": "stream",
     "text": [
      "Model accuracy: 0.579\n"
     ]
    }
   ],
   "source": [
    "_df_balanced['shot_made'] = _df_balanced['shot_made'].astype(int)\n",
    "_df_imbalanced['shot_made'] = _df_imbalanced['shot_made'].astype(int)\n",
    "\n",
    "scaler = StandardScaler()\n",
    "\n",
    "_df_balanced[['pos_x', 'pos_y']] = scaler.fit_transform(_df_balanced[['pos_x', 'pos_y']])\n",
    "_df_imbalanced[['pos_x', 'pos_y']] = scaler.fit_transform(_df_imbalanced[['pos_x', 'pos_y']])\n",
    "\n",
    "X = _df_imbalanced.drop('shot_made', axis=1)[[\n",
    "    \"attempt_type\",\n",
    "    # \"player_id\",\n",
    "    \"team_id\",\n",
    "    \"period\",\n",
    "    \"pos_x\",\n",
    "    # \"pos_y\"\n",
    "]]\n",
    "y = _df_balanced['shot_made']\n",
    "X_train, X_test, y_train, y_test = train_test_split(X, y, test_size=0.1, random_state=42)\n",
    "\n",
    "model = LogisticRegression(max_iter=100000000)\n",
    "model.fit(X_train, y_train)\n",
    "\n",
    "predictions = model.predict(X_test)\n",
    "accuracy = accuracy_score(y_test, predictions)\n",
    "\n",
    "print(f\"Model accuracy: {accuracy}\")\n"
   ]
  },
  {
   "cell_type": "code",
   "execution_count": null,
   "metadata": {},
   "outputs": [],
   "source": []
  }
 ],
 "metadata": {
  "kernelspec": {
   "display_name": "shot-loc-new",
   "language": "python",
   "name": "python3"
  },
  "language_info": {
   "codemirror_mode": {
    "name": "ipython",
    "version": 3
   },
   "file_extension": ".py",
   "mimetype": "text/x-python",
   "name": "python",
   "nbconvert_exporter": "python",
   "pygments_lexer": "ipython3",
   "version": "3.10.14"
  }
 },
 "nbformat": 4,
 "nbformat_minor": 2
}
