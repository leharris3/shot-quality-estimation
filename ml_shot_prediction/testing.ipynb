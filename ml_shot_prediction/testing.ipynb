{
 "cells": [
  {
   "cell_type": "code",
   "execution_count": 2,
   "metadata": {},
   "outputs": [],
   "source": [
    "import os\n",
    "import pandas as pd\n",
    "\n",
    "hudl_logs_dir = \"/playpen-storage/levlevi/contextualized-shot-quality-analysis/data/nba/result-hidden-split/hudl-game-logs\""
   ]
  },
  {
   "cell_type": "code",
   "execution_count": 3,
   "metadata": {},
   "outputs": [],
   "source": [
    "from tqdm import tqdm\n",
    "\n",
    "def generate_features(game_logs_dir: str):\n",
    "    \n",
    "    features = pd.DataFrame(columns=[\"attempt_type\", \"player_id\", \"team_id\tperiod\", \"shot_made\"])\n",
    "    hudl_logs_fps = [os.path.join(game_logs_dir, f) for f in os.listdir(game_logs_dir)]\n",
    "    \n",
    "    for fp in tqdm(hudl_logs_fps):\n",
    "\n",
    "        df = pd.read_csv(fp, delimiter=';')\n",
    "        shots_mask = df[\"action_name\"].str.contains('\\+|\\-', regex=True)\n",
    "        \n",
    "        shot_attempts_df = df.loc[shots_mask, ['action_name', 'player_id', 'team_id', 'half']].copy()\n",
    "        shot_attempts_df['shot_made'] = df.loc[shots_mask, \"action_name\"].str.contains(\"\\+\", regex=True)\n",
    "        shots_attempts_features_df = shot_attempts_df.rename(\n",
    "            columns={\"half\": \"period\", \"action_name\": \"attempt_type\"}\n",
    "        )\n",
    "\n",
    "        # MARK: what are some features everyone has access to?\n",
    "        # attempt type: 2/3\n",
    "        # period (half)\n",
    "        # player_id\n",
    "        # team_id\n",
    "        # opponent_id\n",
    "\n",
    "        attempts_results_stripped = []\n",
    "        for at in shots_attempts_features_df['attempt_type']:\n",
    "            attempts_results_stripped.append(at[0])\n",
    "\n",
    "        shots_attempts_features_df['attempt_type'] = attempts_results_stripped\n",
    "\n",
    "        # remove free throws\n",
    "        free_throws_mask = shots_attempts_features_df['attempt_type'] == '1'\n",
    "        shots_attempts_features_df = shots_attempts_features_df[~free_throws_mask]\n",
    "        \n",
    "        features = pd.concat([features, shots_attempts_features_df])\n",
    "\n",
    "    return features"
   ]
  },
  {
   "cell_type": "code",
   "execution_count": 4,
   "metadata": {},
   "outputs": [
    {
     "name": "stderr",
     "output_type": "stream",
     "text": [
      "  0%|          | 0/634 [00:00<?, ?it/s]/tmp/ipykernel_2658434/1624511974.py:36: FutureWarning: The behavior of DataFrame concatenation with empty or all-NA entries is deprecated. In a future version, this will no longer exclude empty or all-NA columns when determining the result dtypes. To retain the old behavior, exclude the relevant entries before the concat operation.\n",
      "  features = pd.concat([features, shots_attempts_features_df])\n",
      "100%|██████████| 634/634 [00:29<00:00, 21.48it/s]\n"
     ]
    }
   ],
   "source": [
    "df = generate_features(hudl_logs_dir)"
   ]
  },
  {
   "cell_type": "code",
   "execution_count": 5,
   "metadata": {},
   "outputs": [
    {
     "data": {
      "text/plain": [
       "0.5632595383890721"
      ]
     },
     "execution_count": 5,
     "metadata": {},
     "output_type": "execute_result"
    }
   ],
   "source": [
    "from sklearn.linear_model import LogisticRegression\n",
    "from sklearn.model_selection import train_test_split\n",
    "from sklearn.metrics import accuracy_score\n",
    "from sklearn.preprocessing import StandardScaler\n",
    "\n",
    "df['shot_made'] = df['shot_made'].astype(int)\n",
    "\n",
    "# one hot encodings of any continious vars\n",
    "df_encoded = pd.get_dummies(df, columns=['player_id', 'team_id', 'period'], drop_first=True)\n",
    "\n",
    "X = df_encoded.drop('shot_made', axis=1)\n",
    "X = X.dropna(axis=1, how='any')\n",
    "y = df_encoded['shot_made']\n",
    "\n",
    "scaler = StandardScaler()\n",
    "X_scaled = scaler.fit_transform(X)\n",
    "X_train, X_test, y_train, y_test = train_test_split(X_scaled, y, test_size=0.1, random_state=42)\n",
    "\n",
    "model = LogisticRegression()\n",
    "model.fit(X_train, y_train)\n",
    "\n",
    "y_pred = model.predict(X_test)\n",
    "accuracy = accuracy_score(y_test, y_pred)\n",
    "accuracy"
   ]
  },
  {
   "cell_type": "code",
   "execution_count": 9,
   "metadata": {},
   "outputs": [
    {
     "data": {
      "text/plain": [
       "0.012578865724320987"
      ]
     },
     "execution_count": 9,
     "metadata": {},
     "output_type": "execute_result"
    }
   ],
   "source": [
    "diff = accuracy - (1 - (sum(y) / len(y)))\n",
    "diff"
   ]
  },
  {
   "cell_type": "code",
   "execution_count": null,
   "metadata": {},
   "outputs": [],
   "source": []
  }
 ],
 "metadata": {
  "kernelspec": {
   "display_name": "shot-loc-new",
   "language": "python",
   "name": "python3"
  },
  "language_info": {
   "codemirror_mode": {
    "name": "ipython",
    "version": 3
   },
   "file_extension": ".py",
   "mimetype": "text/x-python",
   "name": "python",
   "nbconvert_exporter": "python",
   "pygments_lexer": "ipython3",
   "version": "3.10.14"
  }
 },
 "nbformat": 4,
 "nbformat_minor": 2
}
