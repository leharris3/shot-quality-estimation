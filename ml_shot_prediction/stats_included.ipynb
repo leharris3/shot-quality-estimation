{
 "cells": [
  {
   "cell_type": "code",
   "execution_count": null,
   "metadata": {},
   "outputs": [],
   "source": [
    "import os\n",
    "import pandas as pd\n",
    "import numpy as np\n",
    "\n",
    "stats_dir = \"/playpen-storage/ce/skill/data/player_stat_logs\"\n",
    "\n",
    "def get_all_xml_fps(stats_dir: str):\n",
    "    fps = []\n",
    "    for root, _, files in os.walk(stats_dir):\n",
    "        for file in files:\n",
    "            if file.endswith(\".xml\"):\n",
    "                fps.append(os.path.join(root, file))\n",
    "    return fps\n",
    "\n",
    "all_xml_fps = get_all_xml_fps(stats_dir)"
   ]
  },
  {
   "cell_type": "code",
   "execution_count": null,
   "metadata": {},
   "outputs": [],
   "source": [
    "ex_fp = all_xml_fps[0]\n",
    "df = pd.read_xml(ex_fp, xpath='./param')\n",
    "df.head()"
   ]
  },
  {
   "cell_type": "code",
   "execution_count": null,
   "metadata": {},
   "outputs": [],
   "source": [
    "from lxml import etree\n",
    "\n",
    "from lxml import etree\n",
    "\n",
    "# Load the XML file\n",
    "ex_fp = all_xml_fps[0]\n",
    "tree = etree.parse(ex_fp)\n",
    "\n",
    "# Try to find all <param> elements\n",
    "params = tree.xpath('./param')\n",
    "\n",
    "# Check if any params are found and print them\n",
    "if params:\n",
    "    print(f\"Found {len(params)} param elements\")\n",
    "    for param in params[:5]:  # print first 5 to check\n",
    "        print(etree.tostring(param))\n",
    "else:\n",
    "    print(\"No param elements found. Check the XPath or XML structure.\")"
   ]
  },
  {
   "cell_type": "code",
   "execution_count": null,
   "metadata": {},
   "outputs": [],
   "source": [
    "ex_fp"
   ]
  },
  {
   "cell_type": "code",
   "execution_count": null,
   "metadata": {},
   "outputs": [],
   "source": []
  }
 ],
 "metadata": {
  "kernelspec": {
   "display_name": "Python 3",
   "language": "python",
   "name": "python3"
  },
  "language_info": {
   "codemirror_mode": {
    "name": "ipython",
    "version": 3
   },
   "file_extension": ".py",
   "mimetype": "text/x-python",
   "name": "python",
   "nbconvert_exporter": "python",
   "pygments_lexer": "ipython3",
   "version": "3.10.12"
  }
 },
 "nbformat": 4,
 "nbformat_minor": 2
}
