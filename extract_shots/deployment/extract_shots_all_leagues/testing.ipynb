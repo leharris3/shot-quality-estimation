{
 "cells": [
  {
   "cell_type": "code",
   "execution_count": null,
   "metadata": {},
   "outputs": [],
   "source": [
    "import os\n",
    "import ffmpeg\n",
    "import pandas as pd\n",
    "\n",
    "NBA_15_SRC_DIR = \"\"\n",
    "\n",
    "def extract_all_league_shots(dst_folder: str, num_clips: int, result_shown: bool, sample_method: str):\n",
    "    if sample_method == \"uniform_random\":\n",
    "        pass\n",
    "    elif sample_method == \"balanced\":\n",
    "        pass\n",
    "    else:\n",
    "        raise Exception(f\"Error: invalid sample method: {sample_method}\")\n",
    "    \n"
   ]
  }
 ],
 "metadata": {
  "language_info": {
   "name": "python"
  }
 },
 "nbformat": 4,
 "nbformat_minor": 2
}
