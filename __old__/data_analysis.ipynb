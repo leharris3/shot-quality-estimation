{
 "cells": [
  {
   "cell_type": "code",
   "execution_count": 10,
   "metadata": {},
   "outputs": [],
   "source": [
    "import os\n",
    "import pandas as pd\n",
    "from datascience import *\n",
    "\n",
    "nba_game_logs_fp = '/Volumes/Seagate_19X/NBA_HUDL_data/game_logs/15-16'\n",
    "all_log_fps = [os.path.join(nba_game_logs_fp, f) for f in os.listdir(nba_game_logs_fp)]\n",
    "\n",
    "example_log = all_log_fps[0]\n",
    "df = pd.read_csv(example_log, delimiter=';')\n",
    "example_table = Table.from_df(df)"
   ]
  },
  {
   "cell_type": "code",
   "execution_count": 18,
   "metadata": {},
   "outputs": [
    {
     "data": {
      "text/plain": [
       "655"
      ]
     },
     "execution_count": 18,
     "metadata": {},
     "output_type": "execute_result"
    }
   ],
   "source": [
    "num_games = 0\n",
    "for fp in all_log_fps:\n",
    "    if fp.endswith('.csv'):\n",
    "        # temp_df = pd.read_csv(fp, delimiter=';')\n",
    "        # df = pd.concat([df, temp_df])\n",
    "        num_games += 1\n",
    "# df.head()\n",
    "num_games"
   ]
  },
  {
   "cell_type": "code",
   "execution_count": 34,
   "metadata": {},
   "outputs": [
    {
     "data": {
      "text/plain": [
       "10816"
      ]
     },
     "execution_count": 34,
     "metadata": {},
     "output_type": "execute_result"
    }
   ],
   "source": [
    "sum(df['action_name'] == '3+')"
   ]
  },
  {
   "cell_type": "code",
   "execution_count": 2,
   "metadata": {},
   "outputs": [
    {
     "data": {
      "text/plain": [
       "148817"
      ]
     },
     "execution_count": 2,
     "metadata": {},
     "output_type": "execute_result"
    }
   ],
   "source": [
    "import os\n",
    "import pandas as pd\n",
    "from datascience import *\n",
    "\n",
    "dir_path = '/Volumes/Seagate_19X/Euroleague_data/Game_log_data'\n",
    "csv_fps = []\n",
    "\n",
    "for root, dir, files in os.walk(dir_path):\n",
    "    for file in files:\n",
    "        fp = os.path.join(root, file)\n",
    "        if fp.endswith('.csv'):\n",
    "            csv_fps.append(fp)\n",
    "csv_fps.__len__()"
   ]
  },
  {
   "cell_type": "code",
   "execution_count": 88,
   "metadata": {},
   "outputs": [
    {
     "name": "stderr",
     "output_type": "stream",
     "text": [
      "  1%|          | 1309/148817 [00:05<09:27, 259.97it/s]\n"
     ]
    }
   ],
   "source": [
    "import pandas as pd\n",
    "import json\n",
    "from concurrent.futures import ThreadPoolExecutor, as_completed\n",
    "from tqdm import tqdm\n",
    "\n",
    "keys = \"id\taction_id\taction_name\tplayer_id\tplayer_name\tteam_id\tteam_name\topponent_id\topponent_name\topponent_team_id\topponent_team_name\tteammate_id\tteammate_name\thalf\tsecond\tpos_x\tpos_y\tpossession_id\tpossession_name\tpossession_team_id\tpossession_team_name\tpossession_number\tpossession_start_clear\tpossession_end_clear\tplaytype\thand\tshot_type\tdrive\tdribble_move\tcontesting\tts\".split()\n",
    "\n",
    "def process_file(fp):\n",
    "    try:\n",
    "        league = fp.split('/')[-2]\n",
    "        temp_df = pd.read_csv(fp, delimiter=';', names=keys)\n",
    "        return league, {\n",
    "            '1-': sum(temp_df['action_name'] == '1-'),\n",
    "            '1+': sum(temp_df['action_name'] == '1+'),\n",
    "            '2-': sum(temp_df['action_name'] == '2-'),\n",
    "            '2+': sum(temp_df['action_name'] == '2+'),\n",
    "            '3-': sum(temp_df['action_name'] == '3-'),\n",
    "            '3+': sum(temp_df['action_name'] == '3+')\n",
    "        }\n",
    "    except Exception as e:\n",
    "        print(f\"Error: could not read file at {fp}\")\n",
    "        return league, None\n",
    "\n",
    "def update_log_stats(results):\n",
    "    log_stats = {}\n",
    "    for league, stats in results:\n",
    "        if stats is not None:\n",
    "            if league not in log_stats:\n",
    "                log_stats[league] = {\n",
    "                    '1-': 0, \n",
    "                    '1+': 0, \n",
    "                    '2-': 0, \n",
    "                    '2+': 0, \n",
    "                    '3-': 0, \n",
    "                    '3+': 0\n",
    "                    }\n",
    "            for key in stats:\n",
    "                log_stats[league][key] += stats[key]\n",
    "    return log_stats\n",
    "\n",
    "# Main processing with concurrent execution\n",
    "def main(csv_fps):\n",
    "    results = []\n",
    "    with ThreadPoolExecutor(max_workers=32) as executor:\n",
    "        future_to_fp = {executor.submit(process_file, fp): fp for fp in csv_fps}\n",
    "        for future in tqdm(as_completed(future_to_fp), total=len(csv_fps)):\n",
    "            result = future.result()\n",
    "            if result:\n",
    "                results.append(result)\n",
    "\n",
    "    log_stats = update_log_stats(results)\n",
    "\n",
    "    # Save the log statistics to a JSON file\n",
    "    with open('log_stats.json', 'w') as f:\n",
    "        json.dump(log_stats, f)\n",
    "\n",
    "    print(\"Completed processing and saved the results.\")\n",
    "\n",
    "main(csv_fps)"
   ]
  },
  {
   "cell_type": "code",
   "execution_count": 87,
   "metadata": {},
   "outputs": [
    {
     "data": {
      "text/plain": [
       "32"
      ]
     },
     "execution_count": 87,
     "metadata": {},
     "output_type": "execute_result"
    }
   ],
   "source": [
    "import numpy as np\n",
    "\n",
    "ex = '/Volumes/Seagate_19X/Euroleague_data/Game_log_data/16-17/2_Euroleague/645_BC Barcelona - Brose Bamberg.csv'\n",
    "\n",
    "keys = \"id\taction_id\taction_name\tplayer_id\tplayer_name\tteam_id\tteam_name\topponent_id\topponent_name\topponent_team_id\topponent_team_name\tteammate_id\tteammate_name\thalf\tsecond\tpos_x\tpos_y\tpossession_id\tpossession_name\tpossession_team_id\tpossession_team_name\tpossession_number\tpossession_start_clear\tpossession_end_clear\tplaytype\thand\tshot_type\tdrive\tdribble_move\tcontesting\tts\".split()\n",
    "df = pd.read_csv(ex, delimiter=';', names=keys)\n",
    "sum(df['action_name'] == '2-')"
   ]
  }
 ],
 "metadata": {
  "kernelspec": {
   "display_name": "Python 3",
   "language": "python",
   "name": "python3"
  },
  "language_info": {
   "codemirror_mode": {
    "name": "ipython",
    "version": 3
   },
   "file_extension": ".py",
   "mimetype": "text/x-python",
   "name": "python",
   "nbconvert_exporter": "python",
   "pygments_lexer": "ipython3",
   "version": "3.11.5"
  }
 },
 "nbformat": 4,
 "nbformat_minor": 2
}
