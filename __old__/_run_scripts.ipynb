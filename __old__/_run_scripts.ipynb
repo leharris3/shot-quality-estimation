{
 "cells": [
  {
   "cell_type": "code",
   "execution_count": 1,
   "metadata": {},
   "outputs": [
    {
     "name": "stdout",
     "output_type": "stream",
     "text": [
      "None\n",
      "None\n",
      "None\n",
      "None\n",
      "None\n",
      "None\n",
      "None\n",
      "None\n"
     ]
    }
   ],
   "source": [
    "from paths import LOCAL_DIR\n",
    "from extract_rh_shots import run_parallel_job\n",
    "\n",
    "dst_dir = (\n",
    "        LOCAL_DIR\n",
    "        + \"contextualized-shot-quality-analysis/data/experiments/result-hidden/nba_results_hidden_?k\"\n",
    "    )\n",
    "hudl_logs_dir = (\n",
    "    LOCAL_DIR\n",
    "    + \"contextualized-shot-quality-analysis/data/nba/result-hidden-split/hudl-game-logs\"\n",
    ")\n",
    "nba_replays_dir = (\n",
    "    LOCAL_DIR\n",
    "    + \"contextualized-shot-quality-analysis/data/nba/result-hidden-split/replays\"\n",
    ")\n",
    "\n",
    "run_parallel_job(dst_dir, hudl_logs_dir, nba_replays_dir, num_devices=8)"
   ]
  }
 ],
 "metadata": {
  "kernelspec": {
   "display_name": "shot-loc-new",
   "language": "python",
   "name": "python3"
  },
  "language_info": {
   "codemirror_mode": {
    "name": "ipython",
    "version": 3
   },
   "file_extension": ".py",
   "mimetype": "text/x-python",
   "name": "python",
   "nbconvert_exporter": "python",
   "pygments_lexer": "ipython3",
   "version": "3.10.14"
  }
 },
 "nbformat": 4,
 "nbformat_minor": 2
}
