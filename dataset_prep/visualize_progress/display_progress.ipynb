{
 "cells": [
  {
   "cell_type": "code",
   "execution_count": 1,
   "metadata": {},
   "outputs": [],
   "source": [
    "import os\n",
    "from tqdm import tqdm"
   ]
  },
  {
   "cell_type": "code",
   "execution_count": 3,
   "metadata": {},
   "outputs": [
    {
     "name": "stderr",
     "output_type": "stream",
     "text": [
      "  8%|▊         | 7851/100000 [2:01:25<12:26:38,  2.06it/s]"
     ]
    }
   ],
   "source": [
    "def monitor_progress(vids_dir: str, total_vids: int):\n",
    "    current_count = 0\n",
    "    with tqdm(total=total_vids) as pbar:\n",
    "        while current_count < total_vids:\n",
    "            new_count = sum(\n",
    "                1\n",
    "                for _, _, files in os.walk(vids_dir)\n",
    "                for file in files\n",
    "                if file.endswith(\".mp4\")\n",
    "            )\n",
    "            new_files_processed = new_count - current_count\n",
    "            pbar.update(new_files_processed)\n",
    "            current_count = new_count\n",
    "\n",
    "dir_fp = \"/mnt/opr/levlevi/contextualized-shot-quality-analysis/data/experiments/train-sets/result-hidden/raw_clips/05_13_24_D1_nba_5k_4s\"\n",
    "total_vids = 100000\n",
    "monitor_progress(dir_fp, total_vids)"
   ]
  },
  {
   "cell_type": "code",
   "execution_count": null,
   "metadata": {},
   "outputs": [],
   "source": [
    "made_dir = \"/playpen-storage/levlevi/contextualized-shot-quality-analysis/data/experiments/test-sets/result-hidden/nba_1k_4s_raw_856x480/made\"\n",
    "missed_dir = \"/playpen-storage/levlevi/contextualized-shot-quality-analysis/data/experiments/test-sets/result-hidden/nba_1k_4s_raw_856x480/missed\"\n",
    "\n",
    "num_made = os.listdir(made_dir).__len__()\n",
    "num_missed = os.listdir(missed_dir).__len__()\n",
    "num_made + num_missed\n",
    "# num_made / (num_made + num_missed)"
   ]
  },
  {
   "cell_type": "code",
   "execution_count": null,
   "metadata": {},
   "outputs": [],
   "source": []
  }
 ],
 "metadata": {
  "kernelspec": {
   "display_name": "shot-loc-new",
   "language": "python",
   "name": "python3"
  },
  "language_info": {
   "codemirror_mode": {
    "name": "ipython",
    "version": 3
   },
   "file_extension": ".py",
   "mimetype": "text/x-python",
   "name": "python",
   "nbconvert_exporter": "python",
   "pygments_lexer": "ipython3",
   "version": "3.10.14"
  }
 },
 "nbformat": 4,
 "nbformat_minor": 2
}
