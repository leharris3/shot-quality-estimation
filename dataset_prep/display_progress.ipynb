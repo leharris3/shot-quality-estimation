{
 "cells": [
  {
   "cell_type": "code",
   "execution_count": 1,
   "metadata": {},
   "outputs": [],
   "source": [
    "import os\n",
    "from tqdm import tqdm"
   ]
  },
  {
   "cell_type": "code",
   "execution_count": 2,
   "metadata": {},
   "outputs": [
    {
     "name": "stderr",
     "output_type": "stream",
     "text": [
      "  0%|          | 0/100000 [00:00<?, ?it/s]"
     ]
    },
    {
     "name": "stderr",
     "output_type": "stream",
     "text": [
      " 17%|█▋        | 17454/100000 [06:21<14:43:30,  1.56it/s] "
     ]
    }
   ],
   "source": [
    "def monitor_progress(vids_dir: str, total_vids: int):\n",
    "    current_count = 0\n",
    "    with tqdm(total=total_vids) as pbar:\n",
    "        while current_count < total_vids:\n",
    "            new_count = sum(\n",
    "                1\n",
    "                for _, _, files in os.walk(vids_dir)\n",
    "                for file in files\n",
    "                if file.endswith(\".mp4\")\n",
    "            )\n",
    "            new_files_processed = new_count - current_count\n",
    "            pbar.update(new_files_processed)\n",
    "            current_count = new_count\n",
    "\n",
    "dir_fp = \"/playpen-storage/levlevi/contextualized-shot-quality-analysis/data/experiments/result-hidden/nba_results_hidden_?k\"\n",
    "total_vids = 100000\n",
    "monitor_progress(dir_fp, total_vids)"
   ]
  },
  {
   "cell_type": "code",
   "execution_count": null,
   "metadata": {},
   "outputs": [],
   "source": []
  }
 ],
 "metadata": {
  "kernelspec": {
   "display_name": "shot-loc-new",
   "language": "python",
   "name": "python3"
  },
  "language_info": {
   "codemirror_mode": {
    "name": "ipython",
    "version": 3
   },
   "file_extension": ".py",
   "mimetype": "text/x-python",
   "name": "python",
   "nbconvert_exporter": "python",
   "pygments_lexer": "ipython3",
   "version": "3.10.14"
  }
 },
 "nbformat": 4,
 "nbformat_minor": 2
}
