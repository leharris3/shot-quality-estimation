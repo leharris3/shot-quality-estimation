{
 "cells": [
  {
   "cell_type": "code",
   "execution_count": 1,
   "metadata": {},
   "outputs": [],
   "source": [
    "import os\n",
    "from tqdm import tqdm"
   ]
  },
  {
   "cell_type": "code",
   "execution_count": 2,
   "metadata": {},
   "outputs": [],
   "source": [
    "def delete_videos(dir_path):\n",
    "    for root, _, files in os.walk(dir_path):\n",
    "        for file in files:\n",
    "            if file.endswith('.mp4'):\n",
    "                os.remove(os.path.join(root, file))\n",
    "\n",
    "dir_fp = \"/playpen-storage/levlevi/contextualized-shot-quality-analysis/data/experiments/results-shown/result_shown_nba_1k_8s\"\n",
    "delete_videos(dir_fp)"
   ]
  },
  {
   "cell_type": "code",
   "execution_count": 3,
   "metadata": {},
   "outputs": [
    {
     "name": "stderr",
     "output_type": "stream",
     "text": [
      " 16%|█▌        | 15996/100000 [00:40<07:35, 184.35it/s]   "
     ]
    }
   ],
   "source": [
    "def monitor_progress(vids_dir: str, total_vids: int):\n",
    "    current_count = 0\n",
    "    with tqdm(total=total_vids) as pbar:\n",
    "        while current_count < total_vids:\n",
    "            new_count = sum(\n",
    "                1\n",
    "                for _, _, files in os.walk(vids_dir)\n",
    "                for file in files\n",
    "                if file.endswith(\".mp4\")\n",
    "            )\n",
    "            new_files_processed = new_count - current_count\n",
    "            pbar.update(new_files_processed)\n",
    "            current_count = new_count\n",
    "\n",
    "dir_fp = \"/playpen-storage/levlevi/contextualized-shot-quality-analysis/data/experiments/result-hidden/nba_results_hidden_?k\"\n",
    "total_vids = 100000\n",
    "monitor_progress(dir_fp, total_vids)"
   ]
  },
  {
   "cell_type": "code",
   "execution_count": null,
   "metadata": {},
   "outputs": [],
   "source": [
    "import os\n",
    "\n",
    "fp = \"/playpen-storage/levlevi/contextualized-shot-quality-analysis/data/experiments/result-hidden/nba_results_hidden_?k/garbage\"\n",
    "os.listdir(fp).__len__()"
   ]
  },
  {
   "cell_type": "code",
   "execution_count": null,
   "metadata": {},
   "outputs": [],
   "source": []
  }
 ],
 "metadata": {
  "kernelspec": {
   "display_name": "shot-loc-new",
   "language": "python",
   "name": "python3"
  },
  "language_info": {
   "codemirror_mode": {
    "name": "ipython",
    "version": 3
   },
   "file_extension": ".py",
   "mimetype": "text/x-python",
   "name": "python",
   "nbconvert_exporter": "python",
   "pygments_lexer": "ipython3",
   "version": "3.10.14"
  }
 },
 "nbformat": 4,
 "nbformat_minor": 2
}
