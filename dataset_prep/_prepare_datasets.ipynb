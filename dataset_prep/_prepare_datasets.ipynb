{
 "cells": [
  {
   "cell_type": "code",
   "execution_count": 3,
   "metadata": {},
   "outputs": [
    {
     "name": "stderr",
     "output_type": "stream",
     "text": [
      "100%|██████████| 6008/6008 [01:20<00:00, 74.76it/s] \n",
      "100%|██████████| 9012/9012 [02:13<00:00, 67.47it/s]\n"
     ]
    }
   ],
   "source": [
    "from format_data_kinetics_tf import clean_directory, format_dataset_kinetics\n",
    "from split_dataset import copy_and_split_dataset\n",
    "\n",
    "dst_dir = \"/mnt/opr/levlevi/contextualized-shot-quality-analysis/data/experiments/train-sets/result-noise-cls/result_noise_cls_nba_3k\"\n",
    "test_dir = \"/mnt/opr/levlevi/contextualized-shot-quality-analysis/data/experiments/train-sets/result-noise-cls/result_noise_cls_nba_3k\"\n",
    "\n",
    "copy_and_split_dataset(\n",
    "    train_val_dir=\"/mnt/opr/levlevi/contextualized-shot-quality-analysis/data/experiments/train-sets/result-noise-cls/result_noise_cls_nba_3k\",\n",
    "    test_dir=test_dir,\n",
    "    dst_dir=dst_dir,\n",
    "    num_files_to_copy=3004,\n",
    "    # class_balance=[0.4529, 0.5471],\n",
    ")\n",
    "\n",
    "clean_directory(dst_dir)\n",
    "format_dataset_kinetics(dst_dir)"
   ]
  },
  {
   "cell_type": "code",
   "execution_count": 4,
   "metadata": {},
   "outputs": [],
   "source": [
    "import os\n",
    "\n",
    "def delete_videos(dir_path):\n",
    "    for root, _, files in os.walk(dir_path):\n",
    "        for file in files:\n",
    "            if file.endswith(\".mp4\"):\n",
    "                os.remove(os.path.join(root, file))\n",
    "\n",
    "dir_fp = '/mnt/opr/levlevi/contextualized-shot-quality-analysis/data/experiments/train-sets/result-noise-cls/result_noise_cls_nba_3k/test'\n",
    "delete_videos(dir_fp)"
   ]
  },
  {
   "cell_type": "code",
   "execution_count": 3,
   "metadata": {},
   "outputs": [],
   "source": [
    "from format_data_kinetics_tf import clean_directory, format_dataset_kinetics\n",
    "from split_dataset import copy_and_split_dataset\n",
    "import shutil\n",
    "import os\n",
    "\n",
    "def swap_test_set(to_dir: str, from_dir: str):\n",
    "    to_dir_test_dir = os.path.join(to_dir, \"test\")\n",
    "    delete_videos(to_dir_test_dir)\n",
    "    for subdir in ['made', 'missed']:\n",
    "        subdir_path = os.path.join(from_dir, subdir)\n",
    "        for file in os.listdir(subdir_path):\n",
    "            src_path = os.path.join(from_dir, subdir, file)\n",
    "            dst_path = os.path.join(to_dir_test_dir, subdir, file)\n",
    "            shutil.copy2(src_path, dst_path)\n",
    "    format_dataset_kinetics(to_dir)\n",
    "\n",
    "to_dir = \"/playpen-storage/levlevi/contextualized-shot-quality-analysis/data/experiments/train-sets/result-hidden/formatted_datasets/oprime/oprime_result_hidden_nba_50k_bal_480\"\n",
    "from_dir = \"/playpen-storage/levlevi/contextualized-shot-quality-analysis/data/experiments/test-sets/result-hidden/856x480/formatted/cleaned/nba_.5k_balanced_4s\"\n",
    "swap_test_set(to_dir, from_dir)"
   ]
  },
  {
   "cell_type": "code",
   "execution_count": 4,
   "metadata": {},
   "outputs": [
    {
     "data": {
      "text/plain": [
       "(167, 167)"
      ]
     },
     "execution_count": 4,
     "metadata": {},
     "output_type": "execute_result"
    }
   ],
   "source": [
    "import os\n",
    "\n",
    "source_dir = \"/playpen-storage/levlevi/contextualized-shot-quality-analysis/data/experiments/train-sets/result-noise-cls/result_noise_cls_nba_3k/val\"\n",
    "fp_made = f\"{source_dir}/made\"\n",
    "fp_missed = f\"{source_dir}/missed\"\n",
    "num_made = os.listdir(fp_made).__len__()\n",
    "num_missed = os.listdir(fp_missed).__len__()\n",
    "num_made, num_missed"
   ]
  },
  {
   "cell_type": "code",
   "execution_count": 5,
   "metadata": {},
   "outputs": [
    {
     "data": {
      "text/plain": [
       "334"
      ]
     },
     "execution_count": 5,
     "metadata": {},
     "output_type": "execute_result"
    }
   ],
   "source": [
    "167 * 2"
   ]
  }
 ],
 "metadata": {
  "kernelspec": {
   "display_name": "shot-loc-new",
   "language": "python",
   "name": "python3"
  },
  "language_info": {
   "codemirror_mode": {
    "name": "ipython",
    "version": 3
   },
   "file_extension": ".py",
   "mimetype": "text/x-python",
   "name": "python",
   "nbconvert_exporter": "python",
   "pygments_lexer": "ipython3",
   "version": "3.10.12"
  }
 },
 "nbformat": 4,
 "nbformat_minor": 2
}
