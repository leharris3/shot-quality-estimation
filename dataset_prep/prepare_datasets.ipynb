{
 "cells": [
  {
   "cell_type": "code",
   "execution_count": 1,
   "metadata": {},
   "outputs": [],
   "source": [
    "import os\n",
    "\n",
    "def delete_videos(dir_path):\n",
    "    for root, _, files in os.walk(dir_path):\n",
    "        for file in files:\n",
    "            if file.endswith(\".mp4\"):\n",
    "                os.remove(os.path.join(root, file))\n",
    "\n",
    "# dir_path = \"/playpen-storage/levlevi/contextualized-shot-quality-analysis/data/experiments/result-hidden/nba_results_hidden_20k\"\n",
    "# delete_videos(dir_path)"
   ]
  },
  {
   "cell_type": "code",
   "execution_count": 10,
   "metadata": {},
   "outputs": [
    {
     "name": "stderr",
     "output_type": "stream",
     "text": [
      "100%|██████████| 5498/5498 [00:11<00:00, 458.66it/s]\n",
      " 62%|██████▏   | 3428/5498 [00:08<00:04, 460.55it/s]"
     ]
    },
    {
     "name": "stdout",
     "output_type": "stream",
     "text": [
      "Removing invalid or non-MP4 file: /playpen-storage/levlevi/contextualized-shot-quality-analysis/data/experiments/result-hidden/balance_ablation/result_hidden_nba_5k_train_imbalanced_test_imbalanced_4s/train/made/17622_800400_2+1_1066.986.mp4\n"
     ]
    },
    {
     "name": "stderr",
     "output_type": "stream",
     "text": [
      "100%|██████████| 5498/5498 [00:13<00:00, 397.52it/s]\n"
     ]
    }
   ],
   "source": [
    "from format_data_kinetics_tf import clean_directory, format_dataset_kinetics\n",
    "from split_dataset import copy_and_split_dataset\n",
    "\n",
    "dst_dir = \"/playpen-storage/levlevi/contextualized-shot-quality-analysis/data/experiments/result-hidden/balance_ablation/result_hidden_nba_5k_train_imbalanced_test_imbalanced_4s\"\n",
    "test_dir = \"/playpen-storage/levlevi/contextualized-shot-quality-analysis/data/experiments/test-sets/result-hidden/result_hidden_test_nba_.5k_imbalanced_4s\"\n",
    "\n",
    "copy_and_split_dataset(\n",
    "    train_val_dir=\"/playpen-storage/levlevi/contextualized-shot-quality-analysis/data/experiments/result-hidden/nba_results_hidden_?k\",\n",
    "    test_dir=test_dir,\n",
    "    dst_dir=dst_dir,\n",
    "    num_files_to_copy=5000,\n",
    "    class_balance=[0.4529, 0.5471],\n",
    ")\n",
    "\n",
    "clean_directory(dst_dir)\n",
    "format_dataset_kinetics(dst_dir)"
   ]
  },
  {
   "cell_type": "code",
   "execution_count": 5,
   "metadata": {},
   "outputs": [
    {
     "data": {
      "text/plain": [
       "0.4529058116232465"
      ]
     },
     "execution_count": 5,
     "metadata": {},
     "output_type": "execute_result"
    }
   ],
   "source": [
    "import os\n",
    "\n",
    "fp_made = \"/playpen-storage/levlevi/contextualized-shot-quality-analysis/data/experiments/test-sets/result-hidden/result_hidden_test_nba_.5k_imbalanced_4s/made\"\n",
    "fp_missed = \"/playpen-storage/levlevi/contextualized-shot-quality-analysis/data/experiments/test-sets/result-hidden/result_hidden_test_nba_.5k_imbalanced_4s/missed\"\n",
    "num_made = os.listdir(fp_made).__len__()\n",
    "num_missed = os.listdir(fp_missed).__len__()\n",
    "num_made, num_missed\n",
    "\n",
    "num_made, num_missed\n",
    "num_made / (num_made + num_missed)"
   ]
  },
  {
   "cell_type": "code",
   "execution_count": null,
   "metadata": {},
   "outputs": [],
   "source": []
  }
 ],
 "metadata": {
  "kernelspec": {
   "display_name": "shot-loc-new",
   "language": "python",
   "name": "python3"
  },
  "language_info": {
   "codemirror_mode": {
    "name": "ipython",
    "version": 3
   },
   "file_extension": ".py",
   "mimetype": "text/x-python",
   "name": "python",
   "nbconvert_exporter": "python",
   "pygments_lexer": "ipython3",
   "version": "3.10.12"
  }
 },
 "nbformat": 4,
 "nbformat_minor": 2
}
