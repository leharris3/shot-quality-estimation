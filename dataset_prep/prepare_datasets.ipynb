{
 "cells": [
  {
   "cell_type": "code",
   "execution_count": null,
   "metadata": {},
   "outputs": [],
   "source": [
    "import os\n",
    "\n",
    "def delete_videos(dir_path):\n",
    "    for root, _, files in os.walk(dir_path):\n",
    "        for file in files:\n",
    "            if file.endswith(\".mp4\"):\n",
    "                os.remove(os.path.join(root, file))\n",
    "\n",
    "dir_path = \"/playpen-storage/levlevi/contextualized-shot-quality-analysis/data/experiments/result-hidden/num_frames_ablations/nba_3k_train_bal_test_imb\"\n",
    "delete_videos(dir_path)"
   ]
  },
  {
   "cell_type": "code",
   "execution_count": null,
   "metadata": {},
   "outputs": [],
   "source": [
    "from format_data_kinetics_tf import clean_directory, format_dataset_kinetics\n",
    "from split_dataset import copy_and_split_dataset\n",
    "\n",
    "dst_dir = \"data/experiments/result-hidden/num_frames_ablations/nba_3k_train_bal_test_imb\"\n",
    "test_dir = \"/playpen-storage/levlevi/contextualized-shot-quality-analysis/data/experiments/test-sets/result-hidden/nba_.5k_imbalanced_4s\"\n",
    "\n",
    "copy_and_split_dataset(\n",
    "    train_val_dir=\"/playpen-storage/levlevi/contextualized-shot-quality-analysis/data/experiments/result-hidden/nba_results_hidden_26.7k_480\",\n",
    "    test_dir=test_dir,\n",
    "    dst_dir=dst_dir,\n",
    "    num_files_to_copy=3000,\n",
    "    # class_balance=[0.4529, 0.5471],\n",
    ")\n",
    "\n",
    "clean_directory(dst_dir)\n",
    "format_dataset_kinetics(dst_dir)"
   ]
  },
  {
   "cell_type": "code",
   "execution_count": null,
   "metadata": {},
   "outputs": [],
   "source": [
    "import os\n",
    "\n",
    "fp_made = \"/playpen-storage/levlevi/contextualized-shot-quality-analysis/data/experiments/result-hidden/resolution_ablation/nba_480_1k_train_bal_test_imbal/train/made\"\n",
    "fp_missed = \"/playpen-storage/levlevi/contextualized-shot-quality-analysis/data/experiments/result-hidden/resolution_ablation/nba_480_1k_train_bal_test_imbal/train/missed\"\n",
    "num_made = os.listdir(fp_made).__len__()\n",
    "num_missed = os.listdir(fp_missed).__len__()\n",
    "num_made, num_missed\n",
    "\n",
    "num_made, num_missed\n",
    "num_made / (num_made + num_missed)"
   ]
  },
  {
   "cell_type": "code",
   "execution_count": null,
   "metadata": {},
   "outputs": [],
   "source": []
  }
 ],
 "metadata": {
  "kernelspec": {
   "display_name": "shot-loc-new",
   "language": "python",
   "name": "python3"
  },
  "language_info": {
   "codemirror_mode": {
    "name": "ipython",
    "version": 3
   },
   "file_extension": ".py",
   "mimetype": "text/x-python",
   "name": "python",
   "nbconvert_exporter": "python",
   "pygments_lexer": "ipython3",
   "version": "3.10.12"
  }
 },
 "nbformat": 4,
 "nbformat_minor": 2
}
