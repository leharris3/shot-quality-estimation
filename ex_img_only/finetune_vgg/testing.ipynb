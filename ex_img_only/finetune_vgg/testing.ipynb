{
 "cells": [
  {
   "cell_type": "code",
   "execution_count": 22,
   "metadata": {},
   "outputs": [
    {
     "data": {
      "text/plain": [
       "0"
      ]
     },
     "execution_count": 22,
     "metadata": {},
     "output_type": "execute_result"
    }
   ],
   "source": [
    "import os\n",
    "import random\n",
    "\n",
    "ds_fp = '/Users/leviharris/Desktop/shot-quality-estimation/ex_img_only/finetune_vgg/dataset/train'\n",
    "make = os.path.join(ds_fp, 'make')\n",
    "miss = os.path.join(ds_fp, 'miss')\n",
    "miss_fps = ([os.path.join(miss, f) for f in os.listdir(miss)])\n",
    "random.shuffle(miss_fps)\n",
    "\n",
    "# strong bias here towards misses\n",
    "num_makes, num_misses = os.listdir(make).__len__(), os.listdir(miss).__len__()\n",
    "diff = num_misses - num_makes\n",
    "diff"
   ]
  },
  {
   "cell_type": "code",
   "execution_count": null,
   "metadata": {},
   "outputs": [],
   "source": []
  }
 ],
 "metadata": {
  "kernelspec": {
   "display_name": "temporal-grounding-pipeline",
   "language": "python",
   "name": "python3"
  },
  "language_info": {
   "codemirror_mode": {
    "name": "ipython",
    "version": 3
   },
   "file_extension": ".py",
   "mimetype": "text/x-python",
   "name": "python",
   "nbconvert_exporter": "python",
   "pygments_lexer": "ipython3",
   "version": "3.11.5"
  }
 },
 "nbformat": 4,
 "nbformat_minor": 2
}
